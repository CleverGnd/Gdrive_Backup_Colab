{
  "cells": [
    {
      "cell_type": "markdown",
      "metadata": {
        "id": "1mLzxkki8Ym1"
      },
      "source": [
        "# Gdrive folder backup - Colab"
      ]
    },
    {
      "cell_type": "code",
      "execution_count": null,
      "metadata": {
        "cellView": "form",
        "colab": {
          "base_uri": "https://localhost:8080/"
        },
        "id": "LlYeh0Hn1qoe",
        "outputId": "fb09992b-3e24-488e-9913-8158dca1c9c8"
      },
      "outputs": [
        {
          "name": "stdout",
          "output_type": "stream",
          "text": [
            "Mounted at /content/drive\n"
          ]
        }
      ],
      "source": [
        "#@markdown <h3><img src='https://upload.wikimedia.org/wikipedia/commons/thumb/d/da/Google_Drive_logo.png/600px-Google_Drive_logo.png' height=\"25\" alt=\"Gdrive logo\"/> Montar/Desmontar Gdrive</h3><br>\n",
        "Modo = \"Montar Gdrive\" #@param [\"Montar Gdrive\", \"Desmontar Gdrive\"]\n",
        "#Mount your Gdrive! \n",
        "from google.colab import drive\n",
        "drive.mount._DEBUG = False\n",
        "if modo == \"Montar Gdrive\":\n",
        "  drive.mount('/content/drive', force_remount=True)\n",
        "elif modo == \"Desmontar\":\n",
        "  try:\n",
        "    drive.flush_and_unmount()\n",
        "  except ValueError:\n",
        "    pass\n",
        "  get_ipython().system_raw(\"rm -rf /root/.config/Google/DriveFS\")"
      ]
    },
    {
      "cell_type": "code",
      "execution_count": null,
      "metadata": {
        "cellView": "form",
        "id": "Zq0wpXSJQBFb"
      },
      "outputs": [],
      "source": [
        "#@markdown <h3><img src='https://styles.redditmedia.com/t5_2qh0y/styles/communityIcon_h9cdwd9m75a51.png' height=\"25\" alt=\"Gdrive logo\"/> Instalar Bibliotecas Python</h3><br>\n",
        "\n",
        "import os\n",
        "import shutil\n",
        "import time\n",
        "from tqdm import tqdm"
      ]
    },
    {
      "cell_type": "markdown",
      "metadata": {
        "id": "Y3VcB4jq9PVR"
      },
      "source": [
        "## Defina abaixo os diretório de origem e destino"
      ]
    },
    {
      "cell_type": "code",
      "execution_count": null,
      "metadata": {
        "id": "9j3P14xA9H2D"
      },
      "outputs": [],
      "source": [
        "dir_origem = \"/content/drive/Shareddrives/ArquivosB0\"\n",
        "dir_destino = \"/content/drive/Shareddrives/ArquivosB1\""
      ]
    },
    {
      "cell_type": "markdown",
      "metadata": {
        "id": "neStEIqV9Zv9"
      },
      "source": [
        "## Script para cópiar os arquivos do diretório de origem para o diretório destino"
      ]
    },
    {
      "cell_type": "code",
      "execution_count": null,
      "metadata": {
        "id": "tb7-ak8_TFyV"
      },
      "outputs": [],
      "source": [
        "# Verificar se os diretórios origem e destino existem\n",
        "if not os.path.exists(dir_origem):\n",
        "    print(\"O diretório origem não existe.\")\n",
        "elif not os.path.exists(dir_destino):\n",
        "    print(\"O diretório destino não existe.\")\n",
        "elif dir_origem == dir_destino:\n",
        "    print(\"O diretório origem é igual ao diretório destino.\")\n",
        "else:\n",
        "    # Iniciar o contador de tempo\n",
        "    start_time = time.time()\n",
        "\n",
        "    # Inicializar as variáveis de contagem\n",
        "    pastas_copiadas = 0\n",
        "    arquivos_copiados = 0\n",
        "    arquivos_existem = 0\n",
        "    arquivos_nao_copiados = 0\n",
        "    erros = 0\n",
        "\n",
        "    # Percorrer todos os diretórios e arquivos da origem\n",
        "    for root, dirs, files in os.walk(dir_origem):\n",
        "        # Percorrer todos os arquivos da origem\n",
        "        for file in files:\n",
        "            # Definir o caminho completo do arquivo na origem e no destino\n",
        "            origem = os.path.join(root, file)\n",
        "            destino = os.path.join(dir_destino, origem[len(dir_origem)+1:])\n",
        "            \n",
        "            # Verificar se o arquivo já existe no destino\n",
        "            if os.path.exists(destino):\n",
        "                # Verificar se o arquivo na origem é um arquivo e não um diretório\n",
        "                if os.path.isfile(origem):\n",
        "                    tamanho_origem = os.path.getsize(origem)\n",
        "                    tamanho_destino = os.path.getsize(destino)\n",
        "                    if tamanho_origem == tamanho_destino:\n",
        "                        arquivos_existem += 1\n",
        "                        continue\n",
        "                        \n",
        "            # Copiar o arquivo para o destino e exibir a barra de progresso\n",
        "            try:\n",
        "                # Criar os diretórios no destino, se necessário\n",
        "                os.makedirs(os.path.dirname(destino), exist_ok=True)\n",
        "\n",
        "                with open(origem, 'rb') as f_origem:\n",
        "                    with open(destino, 'wb') as f_destino:\n",
        "                        tamanho = os.path.getsize(origem)\n",
        "                        with tqdm(total=tamanho, unit='B', unit_scale=True, desc=destino) as pbar:\n",
        "                            while True:\n",
        "                                dados = f_origem.read(1024*1024)\n",
        "                                if not dados:\n",
        "                                    break\n",
        "                                f_destino.write(dados)\n",
        "                                pbar.update(len(dados))\n",
        "\n",
        "                arquivos_copiados += 1\n",
        "            except Exception as e:\n",
        "                arquivos_nao_copiados += 1\n",
        "                erros += 1\n",
        "                print(\"Não foi possível copiar o arquivo {} para o destino {}: {}\".format(origem, destino, e))\n",
        "\n",
        "    # Finalizar o contador de tempo\n",
        "    end_time = time.time()\n",
        "\n",
        "    # Calcular a duração da execução\n",
        "    duration = end_time - start_time\n",
        "\n",
        "    # Exibir o resumo da execução\n",
        "    print(\"\\n##########Resumo:##########\")\n",
        "    print(\"Tempo total: {:.2f} segundos\".format(duration))\n",
        "    print(\"Diretório origem: {}\".format(dir_origem))\n",
        "    print(\"Diretório destino: {}\".format(dir_destino))\n",
        "    print(\"Pastas copiadas: {}\".format(pastas_copiadas))\n",
        "    print(\"Arquivos copiados: {}\".format(arquivos_copiados))\n",
        "    print(\"Arquivos que já existiam no destino: {}\".format(arquivos_existem))\n",
        "    print(\"Arquivos não copiados: {}\".format(arquivos_nao_copiados))\n",
        "    print(\"Erros: {}\".format(erros))\n",
        "    \n"
      ]
    }
  ],
  "metadata": {
    "colab": {
      "provenance": []
    },
    "kernelspec": {
      "display_name": "Python 3",
      "name": "python3"
    },
    "language_info": {
      "name": "python"
    }
  },
  "nbformat": 4,
  "nbformat_minor": 0
}
